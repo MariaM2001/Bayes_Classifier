{
 "cells": [
  {
   "cell_type": "markdown",
   "metadata": {},
   "source": [
    "# Наивный Байесовский классификатор "
   ]
  },
  {
   "cell_type": "code",
   "execution_count": 1,
   "metadata": {
    "collapsed": false
   },
   "outputs": [
    {
     "name": "stdout",
     "output_type": "stream",
     "text": [
      "[nltk_data] Downloading package punkt to\n",
      "[nltk_data]     C:\\Users\\MASHA\\AppData\\Roaming\\nltk_data...\n",
      "[nltk_data]   Package punkt is already up-to-date!\n",
      "[nltk_data] Downloading package stopwords to\n",
      "[nltk_data]     C:\\Users\\MASHA\\AppData\\Roaming\\nltk_data...\n",
      "[nltk_data]   Package stopwords is already up-to-date!\n"
     ]
    }
   ],
   "source": [
    "import nltk\n",
    "from nltk.tokenize import word_tokenize\n",
    "from nltk.corpus import stopwords\n",
    "from nltk.stem import PorterStemmer\n",
    "nltk.download('punkt')\n",
    "nltk.download('stopwords')\n",
    "import matplotlib.pyplot as plt\n",
    "from math import log, sqrt\n",
    "import pandas as pd\n",
    "import numpy as np\n",
    "import re\n",
    "%matplotlib inline"
   ]
  },
  {
   "cell_type": "code",
   "execution_count": 41,
   "metadata": {
    "collapsed": false
   },
   "outputs": [
    {
     "data": {
      "text/html": [
       "<div>\n",
       "<table border=\"1\" class=\"dataframe\">\n",
       "  <thead>\n",
       "    <tr style=\"text-align: right;\">\n",
       "      <th></th>\n",
       "      <th>target</th>\n",
       "      <th>message</th>\n",
       "    </tr>\n",
       "  </thead>\n",
       "  <tbody>\n",
       "    <tr>\n",
       "      <th>0</th>\n",
       "      <td>0</td>\n",
       "      <td>Go until jurong point, crazy.. Available only ...</td>\n",
       "    </tr>\n",
       "    <tr>\n",
       "      <th>1</th>\n",
       "      <td>0</td>\n",
       "      <td>Ok lar... Joking wif u oni...</td>\n",
       "    </tr>\n",
       "    <tr>\n",
       "      <th>2</th>\n",
       "      <td>1</td>\n",
       "      <td>Free entry in 2 a wkly comp to win FA Cup fina...</td>\n",
       "    </tr>\n",
       "    <tr>\n",
       "      <th>3</th>\n",
       "      <td>0</td>\n",
       "      <td>U dun say so early hor... U c already then say...</td>\n",
       "    </tr>\n",
       "    <tr>\n",
       "      <th>4</th>\n",
       "      <td>0</td>\n",
       "      <td>Nah I don't think he goes to usf, he lives aro...</td>\n",
       "    </tr>\n",
       "  </tbody>\n",
       "</table>\n",
       "</div>"
      ],
      "text/plain": [
       "   target                                            message\n",
       "0       0  Go until jurong point, crazy.. Available only ...\n",
       "1       0                      Ok lar... Joking wif u oni...\n",
       "2       1  Free entry in 2 a wkly comp to win FA Cup fina...\n",
       "3       0  U dun say so early hor... U c already then say...\n",
       "4       0  Nah I don't think he goes to usf, he lives aro..."
      ]
     },
     "execution_count": 41,
     "metadata": {},
     "output_type": "execute_result"
    }
   ],
   "source": [
    "df = pd.read_csv('spam.csv', encoding = 'latin-1', \n",
    "                 usecols=['v1', 'v2'])\n",
    "df.rename(columns={'v1': 'target', 'v2': 'message'}, inplace=True)\n",
    "df.target.replace({'spam': 1, 'ham': 0}, inplace=True)\n",
    "df.head()"
   ]
  },
  {
   "cell_type": "code",
   "execution_count": 42,
   "metadata": {
    "collapsed": true
   },
   "outputs": [],
   "source": [
    "def preprocess_message(m):\n",
    "    # split into tokens\n",
    "    words = word_tokenize(m)\n",
    "    \n",
    "    # filter out words with length <= 2\n",
    "    words = [w for w in words if len(w) > 2]\n",
    "    \n",
    "    # remove stop-words\n",
    "    sw = stopwords.words('english')\n",
    "    words = [word for word in words if word not in sw]\n",
    "    \n",
    "    # stem\n",
    "    stemmer = PorterStemmer()\n",
    "    words = [stemmer.stem(word) for word in words]\n",
    "    return ' '.join(words)"
   ]
  },
  {
   "cell_type": "code",
   "execution_count": 43,
   "metadata": {
    "collapsed": false
   },
   "outputs": [
    {
     "data": {
      "text/html": [
       "<div>\n",
       "<table border=\"1\" class=\"dataframe\">\n",
       "  <thead>\n",
       "    <tr style=\"text-align: right;\">\n",
       "      <th></th>\n",
       "      <th>target</th>\n",
       "      <th>message</th>\n",
       "    </tr>\n",
       "  </thead>\n",
       "  <tbody>\n",
       "    <tr>\n",
       "      <th>0</th>\n",
       "      <td>0</td>\n",
       "      <td>jurong point crazy.. Avail bugi great world bu...</td>\n",
       "    </tr>\n",
       "    <tr>\n",
       "      <th>1</th>\n",
       "      <td>0</td>\n",
       "      <td>lar ... Joke wif oni ...</td>\n",
       "    </tr>\n",
       "    <tr>\n",
       "      <th>2</th>\n",
       "      <td>1</td>\n",
       "      <td>Free entri wkli comp win Cup final tkt 21st Ma...</td>\n",
       "    </tr>\n",
       "    <tr>\n",
       "      <th>3</th>\n",
       "      <td>0</td>\n",
       "      <td>dun say earli hor ... alreadi say ...</td>\n",
       "    </tr>\n",
       "    <tr>\n",
       "      <th>4</th>\n",
       "      <td>0</td>\n",
       "      <td>Nah n't think goe usf live around though</td>\n",
       "    </tr>\n",
       "  </tbody>\n",
       "</table>\n",
       "</div>"
      ],
      "text/plain": [
       "   target                                            message\n",
       "0       0  jurong point crazy.. Avail bugi great world bu...\n",
       "1       0                           lar ... Joke wif oni ...\n",
       "2       1  Free entri wkli comp win Cup final tkt 21st Ma...\n",
       "3       0              dun say earli hor ... alreadi say ...\n",
       "4       0           Nah n't think goe usf live around though"
      ]
     },
     "execution_count": 43,
     "metadata": {},
     "output_type": "execute_result"
    }
   ],
   "source": [
    "df.message = df.message.apply(preprocess_message)\n",
    "df.head()"
   ]
  },
  {
   "cell_type": "code",
   "execution_count": 44,
   "metadata": {
    "collapsed": false
   },
   "outputs": [
    {
     "data": {
      "text/plain": [
       "0    4825\n",
       "1     747\n",
       "Name: target, dtype: int64"
      ]
     },
     "execution_count": 44,
     "metadata": {},
     "output_type": "execute_result"
    }
   ],
   "source": [
    "df.target.value_counts()"
   ]
  },
  {
   "cell_type": "markdown",
   "metadata": {},
   "source": [
    "### Формула которую нам придется запрограммировать"
   ]
  },
  {
   "cell_type": "markdown",
   "metadata": {},
   "source": [
    "$$ \n",
    "P(spam | message ) = \\frac{P(message | spam)  P(spam)}{P(message)}\n",
    "$$"
   ]
  },
  {
   "cell_type": "markdown",
   "metadata": {},
   "source": [
    "Чтобы получить ответ, нужно перемножить/разделить 3 величины. Чтобы их посчитать, придется расписать формулу чуть поподробнее:"
   ]
  },
  {
   "cell_type": "markdown",
   "metadata": {},
   "source": [
    "$$ \n",
    "\\frac{P(message | spam)  P(spam)}{P(message)} = \\frac{P(word_1 \\cap word_2 \\cap word_3 ... \\cap word_n | spam) P(spam)}{P(word_1 \\cap word_2 \\cap ... \\cap word_n)}\n",
    "$$"
   ]
  },
  {
   "cell_type": "markdown",
   "metadata": {},
   "source": [
    "Считать совместную вероятность вхождения слов в сообщение - это сложно. Вот тут-то и появляется \"наивность\". Заключается она в том что мы, для упрощения вычислений, сделаем грубое предположение: появление разных слов в предложении это события независимые. \n",
    "\n",
    "В таком случае вероятность одновременного появления слов превратится в перемножение вероятностей встретить каждое слово по-отдельности."
   ]
  },
  {
   "cell_type": "markdown",
   "metadata": {},
   "source": [
    "$$ \n",
    "P(word_1 \\cap word_2 \\cap word_3 ... \\cap word_n | spam) \\approx P(word_1|spam)P(word_2|spam) ... P(word_n|spam) \n",
    "$$"
   ]
  },
  {
   "cell_type": "markdown",
   "metadata": {},
   "source": [
    "Вот и весь смысл наивного Байесовского классификатора. Теперь осталось посчитать все формулы по-отдельности, а затем скомбинировать."
   ]
  },
  {
   "cell_type": "code",
   "execution_count": 45,
   "metadata": {
    "collapsed": false
   },
   "outputs": [
    {
     "data": {
      "text/plain": [
       "((4179, 2), (1393, 2))"
      ]
     },
     "execution_count": 45,
     "metadata": {},
     "output_type": "execute_result"
    }
   ],
   "source": [
    "from sklearn.model_selection import train_test_split\n",
    "X_train, X_valid = train_test_split(df)\n",
    "X_train.shape, X_valid.shape"
   ]
  },
  {
   "cell_type": "code",
   "execution_count": 46,
   "metadata": {
    "collapsed": true
   },
   "outputs": [],
   "source": [
    "from sklearn.feature_extraction.text import CountVectorizer"
   ]
  },
  {
   "cell_type": "code",
   "execution_count": 47,
   "metadata": {
    "collapsed": false
   },
   "outputs": [],
   "source": [
    "class SpamDetector():\n",
    "    \n",
    "    def __init__(self):\n",
    "        pass\n",
    "    \n",
    "    # typical machine learning model interface\n",
    "    def fit(self, dataframe):\n",
    "        self.__checkdf(dataframe)\n",
    "        self.p_spam = self.__p_spam(dataframe) # probability of pam messages in df\n",
    "        self.words_if_spam = self._words_if_spam(dataframe) #dictionary: word - count_word in spam\n",
    "        self.words_if_ham = self._words_if_ham(dataframe) #dictionary: word - count_word in ham\n",
    "        self.words = self._words(dataframe) #dictionary: word - count_word \n",
    "    \n",
    "    def predict_proba(self, dataframe):\n",
    "        self.__checkdf(dataframe)\n",
    "        summ_spam = sum(self.words_if_spam.values())\n",
    "        summ_ham = sum(self.words_if_ham.values())\n",
    "        res=np.zeros((dataframe.shape[0], 2))\n",
    "        for i, mes in enumerate(dataframe.message):\n",
    "            for j in mes.split():\n",
    "                res[i][0] += np.log(self.words_if_ham[j] / summ_ham) if j in self.words_if_ham else 0\n",
    "                res[i][1] += np.log(self.words_if_spam[j] / summ_spam) if j in self.words_if_spam else 0\n",
    "                res[i][0] -= np.log(self.words[j] / (summ_ham + summ_spam)) if j in self.words else 0\n",
    "                res[i][1] -= np.log(self.words[j] / (summ_ham + summ_spam)) if j in self.words else 0\n",
    "        res[:,0] += np.log(1 - self.p_spam)\n",
    "        res[:,1] += np.log(self.p_spam)\n",
    "        res[:,0] = np.exp(res[:,0]) \n",
    "        res[:,1] = np.exp(res[:,1])\n",
    "        return res\n",
    "    \n",
    "    def predict(self, dataframe):\n",
    "        self.__checkdf(dataframe)\n",
    "        res = self.predict_proba(dataframe)\n",
    "        return res[:, 0] > res[:,1]\n",
    "    \n",
    "    # helper functions\n",
    "    def __checkdf(self, dataframe):\n",
    "        assert all([c in ['target', 'message'] for c in dataframe.columns])\n",
    "        \n",
    "    def __p_spam(self, dataframe):\n",
    "        return dataframe.target.mean()\n",
    "\n",
    "    def _words_if_spam(self, dataFrame):\n",
    "        countvec = CountVectorizer() \n",
    "        countvec.fit(dataFrame[dataFrame.target == 1].message)\n",
    "        counts = countvec.transform(dataFrame[dataFrame.target == 1].message).sum(axis = 0).tolist()[0]\n",
    "        all_word_counts = dict(zip(countvec.get_feature_names(), counts)) #dictionary: word - count_word in spam\n",
    "        return all_word_counts\n",
    "        \n",
    "    def _words_if_ham(self, dataFrame):\n",
    "        countvec2 = CountVectorizer()\n",
    "        countvec2.fit(dataFrame[dataFrame.target == 0].message)\n",
    "        counts = countvec2.transform(dataFrame[dataFrame.target == 0].message).sum(axis = 0).tolist()[0]\n",
    "        all_word_counts = dict(zip(countvec2.get_feature_names(), counts)) #dictionary: word - count_word in ham\n",
    "        return all_word_counts\n",
    "    \n",
    "    def _words(self, dataFrame):\n",
    "        countvec3 = CountVectorizer()\n",
    "        countvec3.fit(dataFrame.message)\n",
    "        counts = countvec3.transform(dataFrame.message).sum(axis = 0).tolist()[0]\n",
    "        all_word_counts = dict(zip(countvec3.get_feature_names(), counts)) #dictionary: word - count_word in ham\n",
    "        return all_word_counts"
   ]
  },
  {
   "cell_type": "code",
   "execution_count": 48,
   "metadata": {
    "collapsed": false
   },
   "outputs": [],
   "source": [
    "sfilter = SpamDetector()\n",
    "sfilter.fit(X_train)\n"
   ]
  },
  {
   "cell_type": "code",
   "execution_count": 49,
   "metadata": {
    "collapsed": false
   },
   "outputs": [
    {
     "data": {
      "text/plain": [
       "array([[6.14350407e+00, 9.46020007e+25],\n",
       "       [8.23001766e+00, 2.57744894e+35],\n",
       "       [3.60118948e+00, 2.66389520e+12],\n",
       "       ...,\n",
       "       [2.67851765e+00, 2.04375095e+08],\n",
       "       [5.92980750e+00, 5.38750438e+12],\n",
       "       [2.26666987e+00, 7.22075917e+04]])"
      ]
     },
     "execution_count": 49,
     "metadata": {},
     "output_type": "execute_result"
    }
   ],
   "source": [
    "y_hat_p = sfilter.predict_proba(X_valid)\n",
    "y_hat = sfilter.predict(X_valid)\n",
    "y_hat_p"
   ]
  },
  {
   "cell_type": "code",
   "execution_count": 50,
   "metadata": {
    "collapsed": false
   },
   "outputs": [
    {
     "name": "stdout",
     "output_type": "stream",
     "text": [
      "             precision    recall  f1-score   support\n",
      "\n",
      "      False       0.75      0.93      0.83       961\n",
      "       True       0.69      0.32      0.43       432\n",
      "\n",
      "avg / total       0.73      0.74      0.71      1393\n",
      "\n"
     ]
    }
   ],
   "source": [
    "from sklearn.metrics import classification_report\n",
    "print(classification_report(y_hat, X_valid.target))"
   ]
  },
  {
   "cell_type": "code",
   "execution_count": null,
   "metadata": {
    "collapsed": true
   },
   "outputs": [],
   "source": []
  },
  {
   "cell_type": "code",
   "execution_count": null,
   "metadata": {
    "collapsed": true
   },
   "outputs": [],
   "source": []
  }
 ],
 "metadata": {
  "anaconda-cloud": {},
  "kernelspec": {
   "display_name": "Python [default]",
   "language": "python",
   "name": "python3"
  },
  "language_info": {
   "codemirror_mode": {
    "name": "ipython",
    "version": 3
   },
   "file_extension": ".py",
   "mimetype": "text/x-python",
   "name": "python",
   "nbconvert_exporter": "python",
   "pygments_lexer": "ipython3",
   "version": "3.5.2"
  }
 },
 "nbformat": 4,
 "nbformat_minor": 2
}
